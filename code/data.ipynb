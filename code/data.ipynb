{
 "cells": [
  {
   "cell_type": "code",
   "execution_count": 1,
   "id": "abd0851f",
   "metadata": {},
   "outputs": [],
   "source": [
    "# 数据处理工具库\n",
    "import numpy as np\n",
    "import pandas as pd"
   ]
  },
  {
   "cell_type": "code",
   "execution_count": 9,
   "id": "ff0e336a",
   "metadata": {},
   "outputs": [
    {
     "name": "stdout",
     "output_type": "stream",
     "text": [
      "feed数据量：(106444, 15)\n"
     ]
    },
    {
     "data": {
      "text/html": [
       "<div>\n",
       "<style scoped>\n",
       "    .dataframe tbody tr th:only-of-type {\n",
       "        vertical-align: middle;\n",
       "    }\n",
       "\n",
       "    .dataframe tbody tr th {\n",
       "        vertical-align: top;\n",
       "    }\n",
       "\n",
       "    .dataframe thead th {\n",
       "        text-align: right;\n",
       "    }\n",
       "</style>\n",
       "<table border=\"1\" class=\"dataframe\">\n",
       "  <thead>\n",
       "    <tr style=\"text-align: right;\">\n",
       "      <th></th>\n",
       "      <th>feedid</th>\n",
       "      <th>authorid</th>\n",
       "      <th>videoplayseconds</th>\n",
       "      <th>description</th>\n",
       "      <th>ocr</th>\n",
       "      <th>asr</th>\n",
       "      <th>bgm_song_id</th>\n",
       "      <th>bgm_singer_id</th>\n",
       "      <th>manual_keyword_list</th>\n",
       "      <th>machine_keyword_list</th>\n",
       "      <th>manual_tag_list</th>\n",
       "      <th>machine_tag_list</th>\n",
       "      <th>description_char</th>\n",
       "      <th>ocr_char</th>\n",
       "      <th>asr_char</th>\n",
       "    </tr>\n",
       "  </thead>\n",
       "  <tbody>\n",
       "    <tr>\n",
       "      <th>0</th>\n",
       "      <td>43549</td>\n",
       "      <td>6165</td>\n",
       "      <td>38</td>\n",
       "      <td>104741 122649 8109 117252 65632 23463 118668 4...</td>\n",
       "      <td>139499 59421 82007 142955 27736 83577 52394 11...</td>\n",
       "      <td>142955 27736 83577 103956 32010 34170 89740 90...</td>\n",
       "      <td>19356.0</td>\n",
       "      <td>11703.0</td>\n",
       "      <td>15506;7715;17582</td>\n",
       "      <td>26334;219;25209;7715;18541</td>\n",
       "      <td>81;269;159;6</td>\n",
       "      <td>269 0.8525666;81 0.8525666;8 1.1e-07;306 0.0;2...</td>\n",
       "      <td>26439 5247 6426 3827 1882 26018 20744 22204 30...</td>\n",
       "      <td>25926 8491 13394 2203 26439 6243 33054 16435 1...</td>\n",
       "      <td>2203 26439 6243 33054 16435 16307 17070 24908 ...</td>\n",
       "    </tr>\n",
       "    <tr>\n",
       "      <th>1</th>\n",
       "      <td>77432</td>\n",
       "      <td>9386</td>\n",
       "      <td>60</td>\n",
       "      <td>35753 27736 146603 73055 11794 101761 11794 81...</td>\n",
       "      <td>35753 146603 73055 11794 101761 67496 16933 52...</td>\n",
       "      <td>146739 14368 79290 79213 47366 8109 33194 1198...</td>\n",
       "      <td>NaN</td>\n",
       "      <td>NaN</td>\n",
       "      <td>8199;18322;4243</td>\n",
       "      <td>24078;19924</td>\n",
       "      <td>194;267;159;6</td>\n",
       "      <td>267 0.99293476;194 0.99293476</td>\n",
       "      <td>31010 32495 6243 13923 15360 30483 2709 26084 ...</td>\n",
       "      <td>31010 32495 13923 15360 30483 2709 26084 15160...</td>\n",
       "      <td>7259 20851 5061 26207 17573 17531 15117 20072 ...</td>\n",
       "    </tr>\n",
       "  </tbody>\n",
       "</table>\n",
       "</div>"
      ],
      "text/plain": [
       "   feedid  authorid  videoplayseconds  \\\n",
       "0   43549      6165                38   \n",
       "1   77432      9386                60   \n",
       "\n",
       "                                         description  \\\n",
       "0  104741 122649 8109 117252 65632 23463 118668 4...   \n",
       "1  35753 27736 146603 73055 11794 101761 11794 81...   \n",
       "\n",
       "                                                 ocr  \\\n",
       "0  139499 59421 82007 142955 27736 83577 52394 11...   \n",
       "1  35753 146603 73055 11794 101761 67496 16933 52...   \n",
       "\n",
       "                                                 asr  bgm_song_id  \\\n",
       "0  142955 27736 83577 103956 32010 34170 89740 90...      19356.0   \n",
       "1  146739 14368 79290 79213 47366 8109 33194 1198...          NaN   \n",
       "\n",
       "   bgm_singer_id manual_keyword_list        machine_keyword_list  \\\n",
       "0        11703.0    15506;7715;17582  26334;219;25209;7715;18541   \n",
       "1            NaN     8199;18322;4243                 24078;19924   \n",
       "\n",
       "  manual_tag_list                                   machine_tag_list  \\\n",
       "0    81;269;159;6  269 0.8525666;81 0.8525666;8 1.1e-07;306 0.0;2...   \n",
       "1   194;267;159;6                      267 0.99293476;194 0.99293476   \n",
       "\n",
       "                                    description_char  \\\n",
       "0  26439 5247 6426 3827 1882 26018 20744 22204 30...   \n",
       "1  31010 32495 6243 13923 15360 30483 2709 26084 ...   \n",
       "\n",
       "                                            ocr_char  \\\n",
       "0  25926 8491 13394 2203 26439 6243 33054 16435 1...   \n",
       "1  31010 32495 13923 15360 30483 2709 26084 15160...   \n",
       "\n",
       "                                            asr_char  \n",
       "0  2203 26439 6243 33054 16435 16307 17070 24908 ...  \n",
       "1  7259 20851 5061 26207 17573 17531 15117 20072 ...  "
      ]
     },
     "execution_count": 9,
     "metadata": {},
     "output_type": "execute_result"
    }
   ],
   "source": [
    "# 查看feed数据\n",
    "feed_df = pd.read_csv(\"../wechat_algo_data/feed_info.csv\")\n",
    "print(\"feed数据量：{}\".format(feed_df.shape))\n",
    "feed_df.head(2)"
   ]
  },
  {
   "cell_type": "code",
   "execution_count": 10,
   "id": "f033c1ad",
   "metadata": {},
   "outputs": [
    {
     "name": "stdout",
     "output_type": "stream",
     "text": [
      "action数据量：(7317882, 13)\n"
     ]
    },
    {
     "data": {
      "text/html": [
       "<div>\n",
       "<style scoped>\n",
       "    .dataframe tbody tr th:only-of-type {\n",
       "        vertical-align: middle;\n",
       "    }\n",
       "\n",
       "    .dataframe tbody tr th {\n",
       "        vertical-align: top;\n",
       "    }\n",
       "\n",
       "    .dataframe thead th {\n",
       "        text-align: right;\n",
       "    }\n",
       "</style>\n",
       "<table border=\"1\" class=\"dataframe\">\n",
       "  <thead>\n",
       "    <tr style=\"text-align: right;\">\n",
       "      <th></th>\n",
       "      <th>userid</th>\n",
       "      <th>feedid</th>\n",
       "      <th>date_</th>\n",
       "      <th>device</th>\n",
       "      <th>read_comment</th>\n",
       "      <th>comment</th>\n",
       "      <th>like</th>\n",
       "      <th>play</th>\n",
       "      <th>stay</th>\n",
       "      <th>click_avatar</th>\n",
       "      <th>forward</th>\n",
       "      <th>follow</th>\n",
       "      <th>favorite</th>\n",
       "    </tr>\n",
       "  </thead>\n",
       "  <tbody>\n",
       "    <tr>\n",
       "      <th>0</th>\n",
       "      <td>8</td>\n",
       "      <td>71474</td>\n",
       "      <td>1</td>\n",
       "      <td>1</td>\n",
       "      <td>0</td>\n",
       "      <td>0</td>\n",
       "      <td>1</td>\n",
       "      <td>500</td>\n",
       "      <td>5366</td>\n",
       "      <td>0</td>\n",
       "      <td>0</td>\n",
       "      <td>0</td>\n",
       "      <td>0</td>\n",
       "    </tr>\n",
       "    <tr>\n",
       "      <th>1</th>\n",
       "      <td>8</td>\n",
       "      <td>73916</td>\n",
       "      <td>1</td>\n",
       "      <td>1</td>\n",
       "      <td>0</td>\n",
       "      <td>0</td>\n",
       "      <td>0</td>\n",
       "      <td>250</td>\n",
       "      <td>1533</td>\n",
       "      <td>0</td>\n",
       "      <td>0</td>\n",
       "      <td>0</td>\n",
       "      <td>0</td>\n",
       "    </tr>\n",
       "  </tbody>\n",
       "</table>\n",
       "</div>"
      ],
      "text/plain": [
       "   userid  feedid  date_  device  read_comment  comment  like  play  stay  \\\n",
       "0       8   71474      1       1             0        0     1   500  5366   \n",
       "1       8   73916      1       1             0        0     0   250  1533   \n",
       "\n",
       "   click_avatar  forward  follow  favorite  \n",
       "0             0        0       0         0  \n",
       "1             0        0       0         0  "
      ]
     },
     "execution_count": 10,
     "metadata": {},
     "output_type": "execute_result"
    }
   ],
   "source": [
    "# action数据\n",
    "action_df = pd.read_csv('../wechat_algo_data/user_action.csv')\n",
    "print(\"action数据量：{}\".format(action_df.shape))\n",
    "action_df.head(2)"
   ]
  },
  {
   "cell_type": "code",
   "execution_count": 17,
   "id": "82739da5",
   "metadata": {},
   "outputs": [
    {
     "name": "stdout",
     "output_type": "stream",
     "text": [
      "预测数据数据量：(421985, 3)\n"
     ]
    },
    {
     "data": {
      "text/html": [
       "<div>\n",
       "<style scoped>\n",
       "    .dataframe tbody tr th:only-of-type {\n",
       "        vertical-align: middle;\n",
       "    }\n",
       "\n",
       "    .dataframe tbody tr th {\n",
       "        vertical-align: top;\n",
       "    }\n",
       "\n",
       "    .dataframe thead th {\n",
       "        text-align: right;\n",
       "    }\n",
       "</style>\n",
       "<table border=\"1\" class=\"dataframe\">\n",
       "  <thead>\n",
       "    <tr style=\"text-align: right;\">\n",
       "      <th></th>\n",
       "      <th>userid</th>\n",
       "      <th>feedid</th>\n",
       "      <th>device</th>\n",
       "    </tr>\n",
       "  </thead>\n",
       "  <tbody>\n",
       "    <tr>\n",
       "      <th>0</th>\n",
       "      <td>14298</td>\n",
       "      <td>67227</td>\n",
       "      <td>1</td>\n",
       "    </tr>\n",
       "    <tr>\n",
       "      <th>1</th>\n",
       "      <td>68356</td>\n",
       "      <td>91864</td>\n",
       "      <td>2</td>\n",
       "    </tr>\n",
       "  </tbody>\n",
       "</table>\n",
       "</div>"
      ],
      "text/plain": [
       "   userid  feedid  device\n",
       "0   14298   67227       1\n",
       "1   68356   91864       2"
      ]
     },
     "execution_count": 17,
     "metadata": {},
     "output_type": "execute_result"
    }
   ],
   "source": [
    "# 预测数据\n",
    "test = pd.read_csv('../wechat_algo_data/test_a.csv')\n",
    "print(\"预测数据数据量：{}\".format(test.shape))\n",
    "test.head(2)"
   ]
  },
  {
   "cell_type": "code",
   "execution_count": 12,
   "id": "9113c837",
   "metadata": {},
   "outputs": [],
   "source": [
    "import os\n",
    "import copy\n",
    "# import tensorflow\n",
    "from tensorflow.keras.preprocessing.sequence import pad_sequences"
   ]
  },
  {
   "cell_type": "code",
   "execution_count": 13,
   "id": "dbd6cf8c",
   "metadata": {},
   "outputs": [],
   "source": [
    "# 对list字段进行切分和映射编码\n",
    "def split(column):\n",
    "    if not isinstance(column,str):\n",
    "        return []\n",
    "    keys = column.strip().split(';')\n",
    "    for key in keys:\n",
    "        if key not in key2index:\n",
    "            key2index[key] = len(key2index) + 1\n",
    "    return list(map(lambda x: key2index[x], keys))"
   ]
  },
  {
   "cell_type": "code",
   "execution_count": 14,
   "id": "601fa431",
   "metadata": {},
   "outputs": [],
   "source": [
    "def preprocess(sample,dense_features):\n",
    "    '''\n",
    "    特征工程：对数值型特征做对数变换; id型特征+1; 缺失值补充0。\n",
    "    '''\n",
    "    sample[dense_features] = sample[dense_features].fillna(0.0)\n",
    "    sample[dense_features] = np.log(sample[dense_features] + 1.0)\n",
    "    \n",
    "    sample[[\"authorid\", \"bgm_song_id\", \"bgm_singer_id\"]] += 1  # 0 用于填未知\n",
    "    sample[[\"authorid\", \"bgm_song_id\", \"bgm_singer_id\", \"videoplayseconds\"]] = sample[[\"authorid\", \"bgm_song_id\", \"bgm_singer_id\", \"videoplayseconds\"]].fillna(0)\n",
    "    sample[\"videoplayseconds\"] = np.log(sample[\"videoplayseconds\"] + 1.0)\n",
    "    sample[[\"authorid\", \"bgm_song_id\", \"bgm_singer_id\"]] = sample[[\"authorid\", \"bgm_song_id\", \"bgm_singer_id\"]].astype(int)\n",
    "    return sample"
   ]
  },
  {
   "cell_type": "code",
   "execution_count": 15,
   "id": "b26cc3f5",
   "metadata": {},
   "outputs": [],
   "source": [
    "# 合并数据\n",
    "test['date_'] = 15\n",
    "action_df = pd.concat([action_df,test])"
   ]
  },
  {
   "cell_type": "code",
   "execution_count": 18,
   "id": "5ea32227",
   "metadata": {},
   "outputs": [],
   "source": [
    "# 标签列\n",
    "target = [\"read_comment\", \"like\", \"click_avatar\", \"forward\"]\n",
    "# 稀疏特征\n",
    "sparse_features = ['userid', 'feedid', 'authorid', 'bgm_song_id', 'bgm_singer_id']\n",
    "# 变长序列特征\n",
    "varlen_features = ['manual_tag_list','manual_keyword_list']\n",
    "# 稠密特征\n",
    "dense_features = ['videoplayseconds']"
   ]
  },
  {
   "cell_type": "code",
   "execution_count": 20,
   "id": "9543b516",
   "metadata": {},
   "outputs": [
    {
     "name": "stdout",
     "output_type": "stream",
     "text": [
      "manual_keyword_list 字段最长的取值序列长度为 18\n",
      "manual_tag_list 字段最长的取值序列长度为 11\n"
     ]
    }
   ],
   "source": [
    "# 数据合并\n",
    "feed_df = feed_df[['feedid', 'authorid', 'videoplayseconds', 'bgm_song_id', 'bgm_singer_id','manual_tag_list','manual_keyword_list']]\n",
    "data = action_df.merge(feed_df, how='left',on='feedid') #行为数据拼接，作者id，bgm_song_id \n",
    "data = preprocess(data,dense_features) #特征处理\n",
    "data = data[dense_features+sparse_features+varlen_features+['date_']+target]\n",
    "# 变长特征编码\n",
    "encoder = {}\n",
    "global key2index\n",
    "for f in ['manual_keyword_list','manual_tag_list']:\n",
    "    key2index = {}\n",
    "    f_list = list(map(split, data[f].values))\n",
    "    f_length = np.array(list(map(len, f_list)))\n",
    "    max_len = max(f_length)\n",
    "    print(f'{f} 字段最长的取值序列长度为 {max_len}')\n",
    "    # Notice : padding=`post`\n",
    "    data[f] = list(pad_sequences(f_list, maxlen=max_len, padding='post', ))\n",
    "    encoder[f] = copy.copy(key2index)"
   ]
  },
  {
   "cell_type": "code",
   "execution_count": 21,
   "id": "b3805e75",
   "metadata": {},
   "outputs": [
    {
     "name": "stdout",
     "output_type": "stream",
     "text": [
      "编码ID字段：userid\n",
      "编码ID字段：feedid\n",
      "编码ID字段：authorid\n",
      "编码ID字段：bgm_song_id\n",
      "编码ID字段：bgm_singer_id\n"
     ]
    }
   ],
   "source": [
    "# 稀疏特征编码\n",
    "for featid in sparse_features:\n",
    "    print(f\"编码ID字段：{featid}\")\n",
    "    encoder[featid] = {uid:ucode+1 for ucode,uid in enumerate(data[featid].unique())} \n",
    "    data[featid] = data[featid].apply(lambda x: encoder[featid].get(x,0))"
   ]
  },
  {
   "cell_type": "code",
   "execution_count": 22,
   "id": "46b4b708",
   "metadata": {},
   "outputs": [
    {
     "name": "stdout",
     "output_type": "stream",
     "text": [
      "数据维度： (7739867, 13)\n",
      "数据字段： ['videoplayseconds', 'userid', 'feedid', 'authorid', 'bgm_song_id', 'bgm_singer_id', 'manual_tag_list', 'manual_keyword_list', 'date_', 'read_comment', 'like', 'click_avatar', 'forward']\n",
      "不同的date_取值:  [ 1  2  3  5  6  7  8 10 11 12 13 14  4  9 15]\n"
     ]
    }
   ],
   "source": [
    "print('数据维度：', data.shape)\n",
    "print('数据字段：', data.columns.tolist())\n",
    "print('不同的date_取值: ', data['date_'].unique())\n",
    "# 如果资源比较少，可以在这里进行数据采样\n",
    "data = data.sample(frac = 1.0)"
   ]
  },
  {
   "cell_type": "code",
   "execution_count": 23,
   "id": "a7b207e5",
   "metadata": {},
   "outputs": [],
   "source": [
    "# 或者手动创建文件夹data_and_feature\n",
    "!mkdir data_and_feature"
   ]
  },
  {
   "cell_type": "code",
   "execution_count": 24,
   "id": "3e5dc184",
   "metadata": {},
   "outputs": [],
   "source": [
    "# 构建训练集，验证集和测试集\n",
    "# 第14天样本作为验证集\n",
    "train = data[data['date_'] < 14].drop(['date_'],axis = 1)\n",
    "val = data[data['date_'] == 14].drop(['date_'],axis = 1)  \n",
    "test = data[data['date_'] == 15].drop(['date_'],axis = 1)"
   ]
  },
  {
   "cell_type": "code",
   "execution_count": 25,
   "id": "dd03cf35",
   "metadata": {},
   "outputs": [
    {
     "data": {
      "text/plain": [
       "0"
      ]
     },
     "execution_count": 25,
     "metadata": {},
     "output_type": "execute_result"
    }
   ],
   "source": [
    "import gc\n",
    "import joblib\n",
    "del action_df\n",
    "del feed_df\n",
    "del data\n",
    "gc.collect()"
   ]
  },
  {
   "cell_type": "code",
   "execution_count": 26,
   "id": "91fac6e6",
   "metadata": {},
   "outputs": [
    {
     "data": {
      "text/plain": [
       "['./data_and_feature/encoder.txt']"
      ]
     },
     "execution_count": 26,
     "metadata": {},
     "output_type": "execute_result"
    }
   ],
   "source": [
    "joblib.dump(train, './data_and_feature/train.txt')\n",
    "joblib.dump(val, './data_and_feature/val.txt')\n",
    "joblib.dump(test, './data_and_feature/test.txt')\n",
    "joblib.dump(encoder, './data_and_feature/encoder.txt')"
   ]
  },
  {
   "cell_type": "code",
   "execution_count": null,
   "id": "439170ec",
   "metadata": {},
   "outputs": [],
   "source": []
  }
 ],
 "metadata": {
  "kernelspec": {
   "display_name": "tensorflow",
   "language": "python",
   "name": "python3"
  },
  "language_info": {
   "codemirror_mode": {
    "name": "ipython",
    "version": 3
   },
   "file_extension": ".py",
   "mimetype": "text/x-python",
   "name": "python",
   "nbconvert_exporter": "python",
   "pygments_lexer": "ipython3",
   "version": "3.9.21"
  }
 },
 "nbformat": 4,
 "nbformat_minor": 5
}
